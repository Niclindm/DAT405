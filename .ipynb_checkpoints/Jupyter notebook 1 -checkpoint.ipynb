{
 "cells": [
  {
   "cell_type": "code",
   "execution_count": 181,
   "id": "354019dc",
   "metadata": {},
   "outputs": [],
   "source": [
    "import pandas as pd\n",
    "import matplotlib.pyplot as plt\n",
    "import numpy as np "
   ]
  },
  {
   "cell_type": "code",
   "execution_count": 182,
   "id": "2ed7e51b",
   "metadata": {},
   "outputs": [],
   "source": [
    "GDP = pd.read_csv(\"C:/Users/anton/OneDrive - Chalmers/Läsår 2/DAT405 - AI/life-expectancy.csv\")\n",
    "life_expect = pd.read_csv(\"C:/Users/anton/OneDrive - Chalmers/Läsår 2/DAT405 - AI/maddison-data-gdp-per-capita-in-2011us.csv\")"
   ]
  },
  {
   "cell_type": "code",
   "execution_count": 183,
   "id": "b15802fd",
   "metadata": {},
   "outputs": [],
   "source": [
    "data = GDP.merge(life_expect, on=('Year', 'Entity'))\n",
    "reduced_data = data[data.Year == 2015]"
   ]
  },
  {
   "cell_type": "code",
   "execution_count": 184,
   "id": "4195a842",
   "metadata": {},
   "outputs": [
    {
     "data": {
      "text/plain": [
       "Text(0.5, 1.0, 'Scatter plot')"
      ]
     },
     "execution_count": 184,
     "metadata": {},
     "output_type": "execute_result"
    },
    {
     "data": {
      "image/png": "[encoded data removed]",
      "text/plain": [
       "<Figure size 640x480 with 1 Axes>"
      ]
     },
     "metadata": {},
     "output_type": "display_data"
    }
   ],
   "source": [
    "x,y = reduced_data['GDP per capita'], reduced_data['Life expectancy at birth (historical)']\n",
    "plt.scatter(x,y)\n",
    "plt.xlabel('GDP per capita')\n",
    "plt.ylabel('Life expectancy')\n",
    "plt.title('Scatter plot')"
   ]
  },
  {
   "cell_type": "code",
   "execution_count": 185,
   "id": "a85d9fba",
   "metadata": {},
   "outputs": [],
   "source": [
    "# Which countries have a life expectancy higher than one standard deviationabove the mean? "
   ]
  },
  {
   "cell_type": "code",
   "execution_count": 186,
   "id": "c38aabc3",
   "metadata": {},
   "outputs": [],
   "source": [
    "std_dev_exp = np.std(a=reduced_data['Life expectancy at birth (historical)'])\n",
    "mean_exp = np.mean(a=reduced_data['Life expectancy at birth (historical)'])\n",
    "mean_plus_std = mean_exp + std_dev_exp"
   ]
  },
  {
   "cell_type": "code",
   "execution_count": 187,
   "id": "50d5fa60",
   "metadata": {},
   "outputs": [
    {
     "data": {
      "text/plain": [
       "['Australia',\n",
       " 'Austria',\n",
       " 'Belgium',\n",
       " 'Canada',\n",
       " 'Cyprus',\n",
       " 'Denmark',\n",
       " 'Finland',\n",
       " 'France',\n",
       " 'Germany',\n",
       " 'Greece',\n",
       " 'Hong Kong',\n",
       " 'Iceland',\n",
       " 'Ireland',\n",
       " 'Israel',\n",
       " 'Italy',\n",
       " 'Japan',\n",
       " 'Luxembourg',\n",
       " 'Malta',\n",
       " 'Netherlands',\n",
       " 'New Zealand',\n",
       " 'Norway',\n",
       " 'Portugal',\n",
       " 'Qatar',\n",
       " 'Singapore',\n",
       " 'Slovenia',\n",
       " 'South Korea',\n",
       " 'Spain',\n",
       " 'Sweden',\n",
       " 'Switzerland',\n",
       " 'United Kingdom']"
      ]
     },
     "execution_count": 187,
     "metadata": {},
     "output_type": "execute_result"
    }
   ],
   "source": [
    "return_list = []\n",
    "for i, r in reduced_data.iterrows():\n",
    "    country = r[\"Entity\"]\n",
    "    life_exp = r['Life expectancy at birth (historical)']\n",
    "    if life_exp > mean_plus_std:\n",
    "        return_list.append(country)\n",
    "return_list"
   ]
  },
  {
   "cell_type": "code",
   "execution_count": 188,
   "id": "fb3c89f4",
   "metadata": {},
   "outputs": [],
   "source": [
    "# Which countries have high life expectancy but have low GDP? Motivate how you have chosen to define “high” and “low”. "
   ]
  },
  {
   "cell_type": "code",
   "execution_count": 196,
   "id": "43767f56",
   "metadata": {},
   "outputs": [],
   "source": [
    "std_above = mean_exp + std_dev_exp/2\n",
    "std_dev_gdp = np.std(a=reduced_data['GDP per capita'])\n",
    "mean_gdp = np.mean(a=reduced_data['GDP per capita'])\n",
    "std_below = mean_gdp - std_dev_gdp/2"
   ]
  },
  {
   "cell_type": "code",
   "execution_count": 197,
   "id": "6d362f42",
   "metadata": {},
   "outputs": [
    {
     "data": {
      "text/plain": [
       "['Cuba']"
      ]
     },
     "execution_count": 197,
     "metadata": {},
     "output_type": "execute_result"
    }
   ],
   "source": [
    "return_list = []\n",
    "for i, r in reduced_data.iterrows():\n",
    "    country = r[\"Entity\"]\n",
    "    life_exp = r['Life expectancy at birth (historical)']\n",
    "    gdp = r['GDP per capita']\n",
    "    if life_exp > std_above and gdp < std_below:\n",
    "        return_list.append(country)\n",
    "return_list"
   ]
  },
  {
   "cell_type": "code",
   "execution_count": 191,
   "id": "146de286",
   "metadata": {},
   "outputs": [],
   "source": [
    "# Does every strong economy (normally indicated by GDP) have high life expectancy? "
   ]
  },
  {
   "cell_type": "code",
   "execution_count": 192,
   "id": "7e3782ed",
   "metadata": {},
   "outputs": [],
   "source": [
    "std_above_g = mean_gdp + std_dev_gdp/2\n",
    "std_above_l = mean_exp + std_dev_exp/2"
   ]
  },
  {
   "cell_type": "code",
   "execution_count": 193,
   "id": "200b18ee",
   "metadata": {},
   "outputs": [
    {
     "data": {
      "text/plain": [
       "['Equatorial Guinea', 'Trinidad and Tobago']"
      ]
     },
     "execution_count": 193,
     "metadata": {},
     "output_type": "execute_result"
    }
   ],
   "source": [
    "return_list_high = []\n",
    "return_list_low = []\n",
    "for i, r in reduced_data.iterrows():\n",
    "    country = r[\"Entity\"]\n",
    "    life_exp = r['Life expectancy at birth (historical)']\n",
    "    gdp = r['GDP per capita']\n",
    "    if gdp > std_above_g:\n",
    "        if life_exp > std_above_l:\n",
    "            return_list_high.append(country)\n",
    "        else:\n",
    "            return_list_low.append(country)"
   ]
  },
  {
   "cell_type": "code",
   "execution_count": 202,
   "id": "d80a7fa2",
   "metadata": {},
   "outputs": [
    {
     "name": "stdout",
     "output_type": "stream",
     "text": [
      "Percentage low life expectancy and high GDP is 5.56%\n"
     ]
    }
   ],
   "source": [
    "percentage = len(return_list_low)/len(return_list_low + return_list_high)\n",
    "print(f'Percentage low life expectancy and high GDP is {round(percentage*100, 2)}%')"
   ]
  },
  {
   "cell_type": "code",
   "execution_count": 1,
   "id": "1b1e7a5c",
   "metadata": {},
   "outputs": [],
   "source": [
    "# Related to question d, what would happen if you use GDP per capita as an indicator of strong economy? \n",
    "# Explain the results you obtained, and discuss any insights you get from comparing the results of d and e. "
   ]
  },
  {
   "cell_type": "markdown",
   "id": "258612b8",
   "metadata": {},
   "source": [
    "# Höh\n",
    "\n",
    "pretty **EpIxcks**\n"
   ]
  }
 ],
 "metadata": {
  "kernelspec": {
   "display_name": "Python 3 (ipykernel)",
   "language": "python",
   "name": "python3"
  },
  "language_info": {
   "codemirror_mode": {
    "name": "ipython",
    "version": 3
   },
   "file_extension": ".py",
   "mimetype": "text/x-python",
   "name": "python",
   "nbconvert_exporter": "python",
   "pygments_lexer": "ipython3",
   "version": "3.9.13"
  }
 },
 "nbformat": 4,
 "nbformat_minor": 5
}
