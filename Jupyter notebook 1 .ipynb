{
 "cells": [
  {
   "cell_type": "code",
<<<<<<< Updated upstream
   "execution_count": 6,
=======
   "execution_count": 16,
>>>>>>> Stashed changes
   "id": "354019dc",
   "metadata": {},
   "outputs": [],
   "source": [
    "import pandas as pd\n",
    "import matplotlib.pyplot as plt\n",
    "import numpy as np "
   ]
  },
  {
   "cell_type": "code",
<<<<<<< Updated upstream
   "execution_count": 7,
=======
   "execution_count": 17,
>>>>>>> Stashed changes
   "id": "2ed7e51b",
   "metadata": {},
   "outputs": [],
   "source": [
    "GDP_per_capita = pd.read_csv(\"./life-expectancy.csv\")\n",
    "life_expect = pd.read_csv(\"./maddison-data-gdp-per-capita-in-2011us.csv\")\n",
    "GDP = pd.read_csv(\"./gdp-in-british-pounds.csv\")"
   ]
  },
  {
   "cell_type": "code",
<<<<<<< Updated upstream
   "execution_count": 9,
=======
   "execution_count": 18,
>>>>>>> Stashed changes
   "id": "b15802fd",
   "metadata": {},
   "outputs": [
    {
     "name": "stderr",
     "output_type": "stream",
     "text": [
<<<<<<< Updated upstream
      "C:\\Users\\anton\\AppData\\Local\\Temp\\ipykernel_13136\\1289279149.py:4: SettingWithCopyWarning: \n",
=======
      "C:\\Users\\anton\\AppData\\Local\\Temp\\ipykernel_12028\\3635053981.py:4: SettingWithCopyWarning: \n",
>>>>>>> Stashed changes
      "A value is trying to be set on a copy of a slice from a DataFrame\n",
      "\n",
      "See the caveats in the documentation: https://pandas.pydata.org/pandas-docs/stable/user_guide/indexing.html#returning-a-view-versus-a-copy\n",
      "  reduced_d.rename(columns={'GDP (Fouquin and Hugot (CEPII 2016))': 'GDP'}, inplace=True)\n"
     ]
    },
    {
     "data": {
      "text/html": [
       "<div>\n",
       "<style scoped>\n",
       "    .dataframe tbody tr th:only-of-type {\n",
       "        vertical-align: middle;\n",
       "    }\n",
       "\n",
       "    .dataframe tbody tr th {\n",
       "        vertical-align: top;\n",
       "    }\n",
       "\n",
       "    .dataframe thead th {\n",
       "        text-align: right;\n",
       "    }\n",
       "</style>\n",
       "<table border=\"1\" class=\"dataframe\">\n",
       "  <thead>\n",
       "    <tr style=\"text-align: right;\">\n",
       "      <th></th>\n",
       "      <th>Entity</th>\n",
       "      <th>Code_x</th>\n",
       "      <th>Year</th>\n",
       "      <th>Life expectancy at birth (historical)</th>\n",
       "      <th>Code_y</th>\n",
       "      <th>GDP per capita</th>\n",
       "      <th>417485-annotations</th>\n",
       "      <th>Code</th>\n",
       "      <th>GDP</th>\n",
       "    </tr>\n",
       "  </thead>\n",
       "  <tbody>\n",
       "    <tr>\n",
       "      <th>98</th>\n",
       "      <td>Albania</td>\n",
       "      <td>ALB</td>\n",
       "      <td>2000</td>\n",
       "      <td>75.4</td>\n",
       "      <td>ALB</td>\n",
       "      <td>4808.4795</td>\n",
       "      <td>NaN</td>\n",
       "      <td>ALB</td>\n",
       "      <td>2.400530e+09</td>\n",
       "    </tr>\n",
       "    <tr>\n",
       "      <th>163</th>\n",
       "      <td>Algeria</td>\n",
       "      <td>DZA</td>\n",
       "      <td>2000</td>\n",
       "      <td>70.5</td>\n",
       "      <td>DZA</td>\n",
       "      <td>6834.5537</td>\n",
       "      <td>NaN</td>\n",
       "      <td>DZA</td>\n",
       "      <td>3.621245e+10</td>\n",
       "    </tr>\n",
       "    <tr>\n",
       "      <th>203</th>\n",
       "      <td>Angola</td>\n",
       "      <td>AGO</td>\n",
       "      <td>2000</td>\n",
       "      <td>46.0</td>\n",
       "      <td>AGO</td>\n",
       "      <td>2013.6362</td>\n",
       "      <td>NaN</td>\n",
       "      <td>AGO</td>\n",
       "      <td>6.034059e+09</td>\n",
       "    </tr>\n",
       "    <tr>\n",
       "      <th>281</th>\n",
       "      <td>Argentina</td>\n",
       "      <td>ARG</td>\n",
       "      <td>2000</td>\n",
       "      <td>73.9</td>\n",
       "      <td>ARG</td>\n",
       "      <td>14368.9420</td>\n",
       "      <td>NaN</td>\n",
       "      <td>ARG</td>\n",
       "      <td>1.878391e+11</td>\n",
       "    </tr>\n",
       "    <tr>\n",
       "      <th>306</th>\n",
       "      <td>Armenia</td>\n",
       "      <td>ARM</td>\n",
       "      <td>2000</td>\n",
       "      <td>70.6</td>\n",
       "      <td>ARM</td>\n",
       "      <td>5139.8257</td>\n",
       "      <td>NaN</td>\n",
       "      <td>ARM</td>\n",
       "      <td>1.263412e+09</td>\n",
       "    </tr>\n",
       "    <tr>\n",
       "      <th>...</th>\n",
       "      <td>...</td>\n",
       "      <td>...</td>\n",
       "      <td>...</td>\n",
       "      <td>...</td>\n",
       "      <td>...</td>\n",
       "      <td>...</td>\n",
       "      <td>...</td>\n",
       "      <td>...</td>\n",
       "      <td>...</td>\n",
       "    </tr>\n",
       "    <tr>\n",
       "      <th>9882</th>\n",
       "      <td>Venezuela</td>\n",
       "      <td>VEN</td>\n",
       "      <td>2000</td>\n",
       "      <td>72.5</td>\n",
       "      <td>VEN</td>\n",
       "      <td>13992.6080</td>\n",
       "      <td>NaN</td>\n",
       "      <td>VEN</td>\n",
       "      <td>7.742649e+10</td>\n",
       "    </tr>\n",
       "    <tr>\n",
       "      <th>9942</th>\n",
       "      <td>Vietnam</td>\n",
       "      <td>VNM</td>\n",
       "      <td>2000</td>\n",
       "      <td>72.5</td>\n",
       "      <td>VNM</td>\n",
       "      <td>2773.1016</td>\n",
       "      <td>NaN</td>\n",
       "      <td>VNM</td>\n",
       "      <td>2.223377e+10</td>\n",
       "    </tr>\n",
       "    <tr>\n",
       "      <th>9967</th>\n",
       "      <td>Yemen</td>\n",
       "      <td>YEM</td>\n",
       "      <td>2000</td>\n",
       "      <td>62.6</td>\n",
       "      <td>YEM</td>\n",
       "      <td>4212.1055</td>\n",
       "      <td>NaN</td>\n",
       "      <td>YEM</td>\n",
       "      <td>6.368957e+09</td>\n",
       "    </tr>\n",
       "    <tr>\n",
       "      <th>10031</th>\n",
       "      <td>Zambia</td>\n",
       "      <td>ZMB</td>\n",
       "      <td>2000</td>\n",
       "      <td>45.2</td>\n",
       "      <td>ZMB</td>\n",
       "      <td>1428.5024</td>\n",
       "      <td>NaN</td>\n",
       "      <td>ZMB</td>\n",
       "      <td>2.379803e+09</td>\n",
       "    </tr>\n",
       "    <tr>\n",
       "      <th>10095</th>\n",
       "      <td>Zimbabwe</td>\n",
       "      <td>ZWE</td>\n",
       "      <td>2000</td>\n",
       "      <td>44.7</td>\n",
       "      <td>ZWE</td>\n",
       "      <td>2211.1963</td>\n",
       "      <td>NaN</td>\n",
       "      <td>ZWE</td>\n",
       "      <td>4.421600e+09</td>\n",
       "    </tr>\n",
       "  </tbody>\n",
       "</table>\n",
       "<p>158 rows × 9 columns</p>\n",
       "</div>"
      ],
      "text/plain": [
       "          Entity Code_x  Year  Life expectancy at birth (historical) Code_y  \\\n",
       "98       Albania    ALB  2000                                   75.4    ALB   \n",
       "163      Algeria    DZA  2000                                   70.5    DZA   \n",
       "203       Angola    AGO  2000                                   46.0    AGO   \n",
       "281    Argentina    ARG  2000                                   73.9    ARG   \n",
       "306      Armenia    ARM  2000                                   70.6    ARM   \n",
       "...          ...    ...   ...                                    ...    ...   \n",
       "9882   Venezuela    VEN  2000                                   72.5    VEN   \n",
       "9942     Vietnam    VNM  2000                                   72.5    VNM   \n",
       "9967       Yemen    YEM  2000                                   62.6    YEM   \n",
       "10031     Zambia    ZMB  2000                                   45.2    ZMB   \n",
       "10095   Zimbabwe    ZWE  2000                                   44.7    ZWE   \n",
       "\n",
       "       GDP per capita 417485-annotations Code           GDP  \n",
       "98          4808.4795                NaN  ALB  2.400530e+09  \n",
       "163         6834.5537                NaN  DZA  3.621245e+10  \n",
       "203         2013.6362                NaN  AGO  6.034059e+09  \n",
       "281        14368.9420                NaN  ARG  1.878391e+11  \n",
       "306         5139.8257                NaN  ARM  1.263412e+09  \n",
       "...               ...                ...  ...           ...  \n",
       "9882       13992.6080                NaN  VEN  7.742649e+10  \n",
       "9942        2773.1016                NaN  VNM  2.223377e+10  \n",
       "9967        4212.1055                NaN  YEM  6.368957e+09  \n",
       "10031       1428.5024                NaN  ZMB  2.379803e+09  \n",
       "10095       2211.1963                NaN  ZWE  4.421600e+09  \n",
       "\n",
       "[158 rows x 9 columns]"
      ]
     },
<<<<<<< Updated upstream
     "execution_count": 9,
=======
     "execution_count": 18,
>>>>>>> Stashed changes
     "metadata": {},
     "output_type": "execute_result"
    }
   ],
   "source": [
    "d = GDP_per_capita.merge(life_expect, on=('Year', 'Entity'))\n",
    "d = d.merge(GDP, on=('Year', 'Entity'))\n",
    "reduced_d = d[d.Year == 2000]\n",
    "reduced_d.rename(columns={'GDP (Fouquin and Hugot (CEPII 2016))': 'GDP'}, inplace=True)\n",
    "reduced_d"
   ]
  },
  {
   "cell_type": "code",
   "execution_count": 19,
   "id": "4195a842",
   "metadata": {},
   "outputs": [
    {
     "data": {
      "text/plain": [
       "Text(0.5, 1.0, 'Scatter plot')"
      ]
     },
     "execution_count": 19,
     "metadata": {},
     "output_type": "execute_result"
    },
    {
     "data": {
      "image/png": "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\n",
      "text/plain": [
       "<Figure size 640x480 with 1 Axes>"
      ]
     },
     "metadata": {},
     "output_type": "display_data"
    }
   ],
   "source": [
    "x,y = reduced_d['GDP per capita'], reduced_d['Life expectancy at birth (historical)']\n",
    "plt.scatter(x,y)\n",
    "plt.xlabel('GDP per capita')\n",
    "plt.ylabel('Life expectancy')\n",
    "plt.title('Scatter plot')"
   ]
  },
  {
   "cell_type": "markdown",
   "id": "f3fdf56f",
   "metadata": {},
   "source": [
    "**b) Which countries have a life expectancy higher than one standard deviation above the mean?**"
   ]
  },
  {
   "cell_type": "code",
   "execution_count": 20,
   "id": "c38aabc3",
   "metadata": {},
   "outputs": [],
   "source": [
    "std_exp = np.std(a=reduced_d['Life expectancy at birth (historical)'])\n",
    "mean_exp = np.mean(a=reduced_d['Life expectancy at birth (historical)'])\n",
    "mean_std_exp = mean_exp + std_exp"
   ]
  },
  {
   "cell_type": "code",
   "execution_count": 21,
   "id": "50d5fa60",
   "metadata": {},
   "outputs": [
    {
     "data": {
      "text/plain": [
       "['Australia',\n",
       " 'Austria',\n",
       " 'Belgium',\n",
       " 'Canada',\n",
       " 'Costa Rica',\n",
       " 'Finland',\n",
       " 'France',\n",
       " 'Germany',\n",
       " 'Greece',\n",
       " 'Hong Kong',\n",
       " 'Iceland',\n",
       " 'Israel',\n",
       " 'Italy',\n",
       " 'Japan',\n",
       " 'Luxembourg',\n",
       " 'Malta',\n",
       " 'Netherlands',\n",
       " 'New Zealand',\n",
       " 'Norway',\n",
       " 'Singapore',\n",
       " 'Spain',\n",
       " 'Sweden',\n",
       " 'Switzerland',\n",
       " 'United Kingdom']"
      ]
     },
     "execution_count": 21,
     "metadata": {},
     "output_type": "execute_result"
    }
   ],
   "source": [
    "return_list = []\n",
    "for i, r in reduced_d.iterrows():\n",
    "    country = r[\"Entity\"]\n",
    "    life_exp = r['Life expectancy at birth (historical)']\n",
    "    if life_exp > mean_std_exp:\n",
    "        return_list.append(country)\n",
    "return_list"
   ]
  },
  {
   "cell_type": "markdown",
   "id": "c540ac2e",
   "metadata": {},
   "source": [
    "**c) Which countries have high life expectancy but have low GDP? Motivate how you have chosen to define “high” and “low”.**"
   ]
  },
  {
   "cell_type": "code",
   "execution_count": 22,
   "id": "43767f56",
   "metadata": {},
   "outputs": [],
   "source": [
    "std_gdp = np.std(a=reduced_d['GDP'])\n",
    "mean_gdp = np.mean(a=reduced_d['GDP'])\n",
    "\n",
    "std_exp = np.std(a=reduced_d['Life expectancy at birth (historical)'])\n",
    "mean_exp = np.mean(a=reduced_d['Life expectancy at birth (historical)'])\n",
    "\n",
    "mean_std_exp = mean_exp + std_exp\n",
    "mean_std_gdp = mean_gdp - std_gdp\n"
   ]
  },
  {
   "cell_type": "code",
   "execution_count": 23,
   "id": "6d362f42",
   "metadata": {},
   "outputs": [
    {
     "data": {
      "text/plain": [
       "[]"
      ]
     },
     "execution_count": 23,
     "metadata": {},
     "output_type": "execute_result"
    }
   ],
   "source": [
    "return_list = []\n",
    "for i, r in reduced_d.iterrows():\n",
    "    country = r[\"Entity\"]\n",
    "    life_exp = r['Life expectancy at birth (historical)']\n",
    "    gdp = r['GDP']\n",
    "    if life_exp > mean_std_exp and gdp < mean_std_gdp:\n",
    "        return_list.append(country)\n",
    "return_list"
   ]
  },
  {
   "cell_type": "markdown",
   "id": "c418b736",
   "metadata": {},
   "source": [
    "Answer: No countries fit our criteria. For life expectancy we have decided to define \"high\" as 1 standard deviation above the mean. For GDP we have decided to define \"low\" as 1 standard deviation below the mean."
   ]
  },
  {
   "cell_type": "markdown",
   "id": "d4154f32",
   "metadata": {},
   "source": [
    "**d) Does every strong economy (normally indicated by GDP) have high life expectancy?**"
   ]
  },
  {
   "cell_type": "code",
   "execution_count": 24,
   "id": "7e3782ed",
   "metadata": {},
   "outputs": [],
   "source": [
    "std_gdp = np.std(a=reduced_d['GDP'])\n",
    "mean_gdp = np.mean(a=reduced_d['GDP'])\n",
    "\n",
    "std_exp = np.std(a=reduced_d['Life expectancy at birth (historical)'])\n",
    "mean_exp = np.mean(a=reduced_d['Life expectancy at birth (historical)'])\n",
    "\n",
    "mean_std_gdp = mean_gdp + std_gdp\n",
    "mean_std_exp = mean_exp + std_exp"
   ]
  },
  {
   "cell_type": "code",
   "execution_count": 25,
   "id": "200b18ee",
   "metadata": {},
   "outputs": [],
   "source": [
    "return_list_high = []\n",
    "return_list_low = []\n",
    "for i, r in reduced_d.iterrows():\n",
    "    country = r[\"Entity\"]\n",
    "    life_exp = r['Life expectancy at birth (historical)']\n",
    "    gdp = r['GDP']\n",
    "    if gdp > mean_std_gdp:\n",
    "        if life_exp > mean_std_exp:\n",
    "            return_list_high.append(country)\n",
    "        else:\n",
    "            return_list_low.append(country)"
   ]
  },
  {
   "cell_type": "code",
   "execution_count": 26,
   "id": "d80a7fa2",
   "metadata": {},
   "outputs": [
    {
     "name": "stdout",
     "output_type": "stream",
     "text": [
      "Percentage of countries with high life expectancy and high GDP is 71.43%\n"
     ]
    }
   ],
   "source": [
    "tot_len = len(return_list_low + return_list_high)\n",
    "\n",
    "percentage = len(return_list_high)/tot_len\n",
    "print(f'Percentage of countries with high life expectancy and high GDP is {round(percentage*100, 2)}%')"
   ]
  },
  {
   "cell_type": "markdown",
   "id": "b423d22f",
   "metadata": {},
   "source": [
    "Answer: Yes, mostly. 71,43% of the countries with high GDP have high life expectancy, indicating a weak correlation.  "
   ]
  },
  {
   "cell_type": "markdown",
   "id": "9d6245f9",
   "metadata": {},
   "source": [
    "**e) Related to question d, what would happen if you use GDP per capita as an indicator of strong economy? Explain the results you obtained, and discuss any insights you get from comparing the results of d and e.**"
   ]
  },
  {
   "cell_type": "code",
   "execution_count": 27,
   "id": "e986167e",
   "metadata": {},
   "outputs": [],
   "source": [
    "std_gdp = np.std(a=reduced_d['GDP per capita'])\n",
    "mean_gdp = np.mean(a=reduced_d['GDP per capita'])\n",
    "\n",
    "std_exp = np.std(a=reduced_d['Life expectancy at birth (historical)'])\n",
    "mean_exp = np.mean(a=reduced_d['Life expectancy at birth (historical)'])\n",
    "\n",
    "mean_std_gdp = mean_gdp + std_gdp\n",
    "mean_std_exp = mean_exp + std_exp"
   ]
  },
  {
   "cell_type": "code",
   "execution_count": 28,
   "id": "f73b0d4d",
   "metadata": {},
   "outputs": [],
   "source": [
    "return_list_high = []\n",
    "return_list_low = []\n",
    "for i, r in reduced_d.iterrows():\n",
    "    country = r[\"Entity\"]\n",
    "    life_exp = r['Life expectancy at birth (historical)']\n",
    "    gdp = r['GDP per capita']\n",
    "    if gdp > mean_std_gdp:\n",
    "        if life_exp > mean_std_exp:\n",
    "            return_list_high.append(country)\n",
    "        else:\n",
    "            return_list_low.append(country)"
   ]
  },
  {
   "cell_type": "code",
   "execution_count": 29,
   "id": "b5c6adea",
   "metadata": {},
   "outputs": [
    {
     "name": "stdout",
     "output_type": "stream",
     "text": [
      "Percentage of countries with high life expectancy and high GDP is 72.41%\n"
     ]
    }
   ],
   "source": [
    "tot_len = len(return_list_low + return_list_high)\n",
    "\n",
    "percentage = len(return_list_high)/tot_len\n",
    "print(f'Percentage of countries with high life expectancy and high GDP per capita is {round(percentage*100, 2)}%')"
   ]
  },
  {
   "cell_type": "markdown",
   "id": "258612b8",
   "metadata": {},
   "source": [
    "Answer: From our results GDP per capita and GDP are decent indicators of strong economies. A factor that GDP per capita/GDP doesn't concider, is where the money is coming from, if it's one indusry (eg oil) or multiple intustries. Having multiple strong industries are much prefered as it reduces the risk of an economic collapse. \n",
    "\n",
    "We tested with diffrent years and found that the percentage varies a lot. From the 1900s the percentage has stedily decreased, indicating weaker coorelation between strong economies and and life expectancy. This might be because either poor countries economies grow faster than their life expectancy, or that their life expectancy grow faster than the economy.\n",
    "\n",
    "We used the same deviation every time (1 standart deviation), so that we could compare results between questions. \n",
    "\n",
    "We choose to reduce our dataset to one year to simplify the calculations. The year 2000 was chosen because it is recent and we had data for that year.\n",
    "\n",
    "\n"
   ]
  }
 ],
 "metadata": {
  "kernelspec": {
   "display_name": "Python 3 (ipykernel)",
   "language": "python",
   "name": "python3"
  },
  "language_info": {
   "codemirror_mode": {
    "name": "ipython",
    "version": 3
   },
   "file_extension": ".py",
   "mimetype": "text/x-python",
   "name": "python",
   "nbconvert_exporter": "python",
   "pygments_lexer": "ipython3",
   "version": "3.9.13"
  },
  "vscode": {
   "interpreter": {
    "hash": "8b3862bff8ec4c0913ff501ec59a91eeec109cc3060137e5ac68f23925615549"
   }
  }
 },
 "nbformat": 4,
 "nbformat_minor": 5
}
