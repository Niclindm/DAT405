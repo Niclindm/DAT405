{
 "cells": [
  {
   "cell_type": "code",
   "execution_count": 332,
   "id": "354019dc",
   "metadata": {},
   "outputs": [],
   "source": [
    "import pandas as pd\n",
    "import matplotlib.pyplot as plt\n",
    "import numpy as np "
   ]
  },
  {
   "cell_type": "code",
   "execution_count": 333,
   "id": "2ed7e51b",
   "metadata": {},
   "outputs": [],
   "source": [
    "GDP_per_capita = pd.read_csv(\"C:/Users/anton/OneDrive - Chalmers/Läsår 2/DAT405 - AI/life-expectancy.csv\")\n",
    "life_expect = pd.read_csv(\"C:/Users/anton/OneDrive - Chalmers/Läsår 2/DAT405 - AI/maddison-data-gdp-per-capita-in-2011us.csv\")\n",
    "GDP = pd.read_csv(\"C:/Users/anton/OneDrive - Chalmers/Läsår 2/DAT405 - AI/gdp-in-british-pounds.csv\")"
   ]
  },
  {
   "cell_type": "code",
   "execution_count": 334,
   "id": "b15802fd",
   "metadata": {},
   "outputs": [
    {
     "name": "stderr",
     "output_type": "stream",
     "text": [
      "C:\\Users\\anton\\AppData\\Local\\Temp\\ipykernel_15664\\1289279149.py:4: SettingWithCopyWarning: \n",
      "A value is trying to be set on a copy of a slice from a DataFrame\n",
      "\n",
      "See the caveats in the documentation: https://pandas.pydata.org/pandas-docs/stable/user_guide/indexing.html#returning-a-view-versus-a-copy\n",
      "  reduced_d.rename(columns={'GDP (Fouquin and Hugot (CEPII 2016))': 'GDP'}, inplace = True)\n"
     ]
    },
    {
     "data": {
      "text/html": [
       "<div>\n",
       "<style scoped>\n",
       "    .dataframe tbody tr th:only-of-type {\n",
       "        vertical-align: middle;\n",
       "    }\n",
       "\n",
       "    .dataframe tbody tr th {\n",
       "        vertical-align: top;\n",
       "    }\n",
       "\n",
       "    .dataframe thead th {\n",
       "        text-align: right;\n",
       "    }\n",
       "</style>\n",
       "<table border=\"1\" class=\"dataframe\">\n",
       "  <thead>\n",
       "    <tr style=\"text-align: right;\">\n",
       "      <th></th>\n",
       "      <th>Entity</th>\n",
       "      <th>Code_x</th>\n",
       "      <th>Year</th>\n",
       "      <th>Life expectancy at birth (historical)</th>\n",
       "      <th>Code_y</th>\n",
       "      <th>GDP per capita</th>\n",
       "      <th>417485-annotations</th>\n",
       "      <th>Code</th>\n",
       "      <th>GDP</th>\n",
       "    </tr>\n",
       "  </thead>\n",
       "  <tbody>\n",
       "    <tr>\n",
       "      <th>98</th>\n",
       "      <td>Albania</td>\n",
       "      <td>ALB</td>\n",
       "      <td>2000</td>\n",
       "      <td>75.4</td>\n",
       "      <td>ALB</td>\n",
       "      <td>4808.4795</td>\n",
       "      <td>NaN</td>\n",
       "      <td>ALB</td>\n",
       "      <td>2.400530e+09</td>\n",
       "    </tr>\n",
       "    <tr>\n",
       "      <th>163</th>\n",
       "      <td>Algeria</td>\n",
       "      <td>DZA</td>\n",
       "      <td>2000</td>\n",
       "      <td>70.5</td>\n",
       "      <td>DZA</td>\n",
       "      <td>6834.5537</td>\n",
       "      <td>NaN</td>\n",
       "      <td>DZA</td>\n",
       "      <td>3.621245e+10</td>\n",
       "    </tr>\n",
       "    <tr>\n",
       "      <th>203</th>\n",
       "      <td>Angola</td>\n",
       "      <td>AGO</td>\n",
       "      <td>2000</td>\n",
       "      <td>46.0</td>\n",
       "      <td>AGO</td>\n",
       "      <td>2013.6362</td>\n",
       "      <td>NaN</td>\n",
       "      <td>AGO</td>\n",
       "      <td>6.034059e+09</td>\n",
       "    </tr>\n",
       "    <tr>\n",
       "      <th>281</th>\n",
       "      <td>Argentina</td>\n",
       "      <td>ARG</td>\n",
       "      <td>2000</td>\n",
       "      <td>73.9</td>\n",
       "      <td>ARG</td>\n",
       "      <td>14368.9420</td>\n",
       "      <td>NaN</td>\n",
       "      <td>ARG</td>\n",
       "      <td>1.878391e+11</td>\n",
       "    </tr>\n",
       "    <tr>\n",
       "      <th>306</th>\n",
       "      <td>Armenia</td>\n",
       "      <td>ARM</td>\n",
       "      <td>2000</td>\n",
       "      <td>70.6</td>\n",
       "      <td>ARM</td>\n",
       "      <td>5139.8257</td>\n",
       "      <td>NaN</td>\n",
       "      <td>ARM</td>\n",
       "      <td>1.263412e+09</td>\n",
       "    </tr>\n",
       "    <tr>\n",
       "      <th>...</th>\n",
       "      <td>...</td>\n",
       "      <td>...</td>\n",
       "      <td>...</td>\n",
       "      <td>...</td>\n",
       "      <td>...</td>\n",
       "      <td>...</td>\n",
       "      <td>...</td>\n",
       "      <td>...</td>\n",
       "      <td>...</td>\n",
       "    </tr>\n",
       "    <tr>\n",
       "      <th>9882</th>\n",
       "      <td>Venezuela</td>\n",
       "      <td>VEN</td>\n",
       "      <td>2000</td>\n",
       "      <td>72.5</td>\n",
       "      <td>VEN</td>\n",
       "      <td>13992.6080</td>\n",
       "      <td>NaN</td>\n",
       "      <td>VEN</td>\n",
       "      <td>7.742649e+10</td>\n",
       "    </tr>\n",
       "    <tr>\n",
       "      <th>9942</th>\n",
       "      <td>Vietnam</td>\n",
       "      <td>VNM</td>\n",
       "      <td>2000</td>\n",
       "      <td>72.5</td>\n",
       "      <td>VNM</td>\n",
       "      <td>2773.1016</td>\n",
       "      <td>NaN</td>\n",
       "      <td>VNM</td>\n",
       "      <td>2.223377e+10</td>\n",
       "    </tr>\n",
       "    <tr>\n",
       "      <th>9967</th>\n",
       "      <td>Yemen</td>\n",
       "      <td>YEM</td>\n",
       "      <td>2000</td>\n",
       "      <td>62.6</td>\n",
       "      <td>YEM</td>\n",
       "      <td>4212.1055</td>\n",
       "      <td>NaN</td>\n",
       "      <td>YEM</td>\n",
       "      <td>6.368957e+09</td>\n",
       "    </tr>\n",
       "    <tr>\n",
       "      <th>10031</th>\n",
       "      <td>Zambia</td>\n",
       "      <td>ZMB</td>\n",
       "      <td>2000</td>\n",
       "      <td>45.2</td>\n",
       "      <td>ZMB</td>\n",
       "      <td>1428.5024</td>\n",
       "      <td>NaN</td>\n",
       "      <td>ZMB</td>\n",
       "      <td>2.379803e+09</td>\n",
       "    </tr>\n",
       "    <tr>\n",
       "      <th>10095</th>\n",
       "      <td>Zimbabwe</td>\n",
       "      <td>ZWE</td>\n",
       "      <td>2000</td>\n",
       "      <td>44.7</td>\n",
       "      <td>ZWE</td>\n",
       "      <td>2211.1963</td>\n",
       "      <td>NaN</td>\n",
       "      <td>ZWE</td>\n",
       "      <td>4.421600e+09</td>\n",
       "    </tr>\n",
       "  </tbody>\n",
       "</table>\n",
       "<p>158 rows × 9 columns</p>\n",
       "</div>"
      ],
      "text/plain": [
       "          Entity Code_x  Year  Life expectancy at birth (historical) Code_y  \\\n",
       "98       Albania    ALB  2000                                   75.4    ALB   \n",
       "163      Algeria    DZA  2000                                   70.5    DZA   \n",
       "203       Angola    AGO  2000                                   46.0    AGO   \n",
       "281    Argentina    ARG  2000                                   73.9    ARG   \n",
       "306      Armenia    ARM  2000                                   70.6    ARM   \n",
       "...          ...    ...   ...                                    ...    ...   \n",
       "9882   Venezuela    VEN  2000                                   72.5    VEN   \n",
       "9942     Vietnam    VNM  2000                                   72.5    VNM   \n",
       "9967       Yemen    YEM  2000                                   62.6    YEM   \n",
       "10031     Zambia    ZMB  2000                                   45.2    ZMB   \n",
       "10095   Zimbabwe    ZWE  2000                                   44.7    ZWE   \n",
       "\n",
       "       GDP per capita 417485-annotations Code           GDP  \n",
       "98          4808.4795                NaN  ALB  2.400530e+09  \n",
       "163         6834.5537                NaN  DZA  3.621245e+10  \n",
       "203         2013.6362                NaN  AGO  6.034059e+09  \n",
       "281        14368.9420                NaN  ARG  1.878391e+11  \n",
       "306         5139.8257                NaN  ARM  1.263412e+09  \n",
       "...               ...                ...  ...           ...  \n",
       "9882       13992.6080                NaN  VEN  7.742649e+10  \n",
       "9942        2773.1016                NaN  VNM  2.223377e+10  \n",
       "9967        4212.1055                NaN  YEM  6.368957e+09  \n",
       "10031       1428.5024                NaN  ZMB  2.379803e+09  \n",
       "10095       2211.1963                NaN  ZWE  4.421600e+09  \n",
       "\n",
       "[158 rows x 9 columns]"
      ]
     },
     "execution_count": 334,
     "metadata": {},
     "output_type": "execute_result"
    }
   ],
   "source": [
    "d = GDP_per_capita.merge(life_expect, on=('Year', 'Entity'))\n",
    "d = d.merge(GDP, on=('Year', 'Entity'))\n",
    "reduced_d = d[d.Year == 2000]\n",
    "reduced_d.rename(columns={'GDP (Fouquin and Hugot (CEPII 2016))': 'GDP'}, inplace = True)\n",
    "reduced_d"
   ]
  },
  {
   "cell_type": "code",
   "execution_count": 335,
   "id": "4195a842",
   "metadata": {},
   "outputs": [
    {
     "data": {
      "text/plain": [
       "Text(0.5, 1.0, 'Scatter plot')"
      ]
     },
     "execution_count": 335,
     "metadata": {},
     "output_type": "execute_result"
    },
    {
     "data": {
      "image/png": "[encoded data removed]",
      "text/plain": [
       "<Figure size 640x480 with 1 Axes>"
      ]
     },
     "metadata": {},
     "output_type": "display_data"
    }
   ],
   "source": [
    "x,y = reduced_d['GDP per capita'], reduced_d['Life expectancy at birth (historical)']\n",
    "plt.scatter(x,y)\n",
    "plt.xlabel('GDP per capita')\n",
    "plt.ylabel('Life expectancy')\n",
    "plt.title('Scatter plot')"
   ]
  },
  {
   "attachments": {},
   "cell_type": "markdown",
   "id": "f3fdf56f",
   "metadata": {},
   "source": [
    "**b) Which countries have a life expectancy higher than one standard deviation above the mean?**"
   ]
  },
  {
   "cell_type": "code",
   "execution_count": 336,
   "id": "c38aabc3",
   "metadata": {},
   "outputs": [],
   "source": [
    "std_exp = np.std(a=reduced_d['Life expectancy at birth (historical)'])\n",
    "mean_exp = np.mean(a=reduced_d['Life expectancy at birth (historical)'])\n",
    "mean_std_exp = mean_exp + std_exp"
   ]
  },
  {
   "cell_type": "code",
   "execution_count": 337,
   "id": "50d5fa60",
   "metadata": {},
   "outputs": [
    {
     "data": {
      "text/plain": [
       "['Australia',\n",
       " 'Austria',\n",
       " 'Belgium',\n",
       " 'Canada',\n",
       " 'Costa Rica',\n",
       " 'Finland',\n",
       " 'France',\n",
       " 'Germany',\n",
       " 'Greece',\n",
       " 'Hong Kong',\n",
       " 'Iceland',\n",
       " 'Israel',\n",
       " 'Italy',\n",
       " 'Japan',\n",
       " 'Luxembourg',\n",
       " 'Malta',\n",
       " 'Netherlands',\n",
       " 'New Zealand',\n",
       " 'Norway',\n",
       " 'Singapore',\n",
       " 'Spain',\n",
       " 'Sweden',\n",
       " 'Switzerland',\n",
       " 'United Kingdom']"
      ]
     },
     "execution_count": 337,
     "metadata": {},
     "output_type": "execute_result"
    }
   ],
   "source": [
    "return_list = []\n",
    "for i, r in reduced_d.iterrows():\n",
    "    country = r[\"Entity\"]\n",
    "    life_exp = r['Life expectancy at birth (historical)']\n",
    "    if life_exp > mean_std_exp:\n",
    "        return_list.append(country)\n",
    "return_list"
   ]
  },
  {
   "attachments": {},
   "cell_type": "markdown",
   "id": "c540ac2e",
   "metadata": {},
   "source": [
    "**c) Which countries have high life expectancy but have low GDP? Motivate how you have chosen to define “high” and “low”.**"
   ]
  },
  {
   "cell_type": "code",
   "execution_count": 338,
   "id": "43767f56",
   "metadata": {},
   "outputs": [],
   "source": [
    "std_gdp = np.std(a=reduced_d['GDP'])\n",
    "mean_gdp = np.mean(a=reduced_d['GDP'])\n",
    "\n",
    "std_exp = np.std(a=reduced_d['Life expectancy at birth (historical)'])\n",
    "mean_exp = np.mean(a=reduced_d['Life expectancy at birth (historical)'])\n",
    "\n",
    "mean_std_exp = mean_exp + std_exp\n",
    "mean_std_gdp = mean_gdp - std_gdp\n"
   ]
  },
  {
   "cell_type": "code",
   "execution_count": 339,
   "id": "6d362f42",
   "metadata": {},
   "outputs": [
    {
     "data": {
      "text/plain": [
       "[]"
      ]
     },
     "execution_count": 339,
     "metadata": {},
     "output_type": "execute_result"
    }
   ],
   "source": [
    "return_list = []\n",
    "for i, r in reduced_d.iterrows():\n",
    "    country = r[\"Entity\"]\n",
    "    life_exp = r['Life expectancy at birth (historical)']\n",
    "    gdp = r['GDP']\n",
    "    if life_exp > mean_std_exp and gdp < mean_std_gdp:\n",
    "        return_list.append(country)\n",
    "return_list"
   ]
  },
  {
   "attachments": {},
   "cell_type": "markdown",
   "id": "c418b736",
   "metadata": {},
   "source": [
    "Answer: No countries fit our criteria. For life expecancy we have decided to define \"high\" as 1 standard deviation above the mean. For GDP we have decided to define \"low\" as 1 standard deviation below the mean."
   ]
  },
  {
   "attachments": {},
   "cell_type": "markdown",
   "id": "d4154f32",
   "metadata": {},
   "source": [
    "**d) Does every strong economy (normally indicated by GDP) have high life expectancy?**"
   ]
  },
  {
   "cell_type": "code",
   "execution_count": 340,
   "id": "7e3782ed",
   "metadata": {},
   "outputs": [],
   "source": [
    "std_gdp = np.std(a=reduced_d['GDP'])\n",
    "mean_gdp = np.mean(a=reduced_d['GDP'])\n",
    "\n",
    "std_exp = np.std(a=reduced_d['Life expectancy at birth (historical)'])\n",
    "mean_exp = np.mean(a=reduced_d['Life expectancy at birth (historical)'])\n",
    "\n",
    "mean_std_gdp = mean_gdp + std_gdp\n",
    "mean_std_exp = mean_exp + std_exp"
   ]
  },
  {
   "cell_type": "code",
   "execution_count": 341,
   "id": "200b18ee",
   "metadata": {},
   "outputs": [],
   "source": [
    "return_list_high = []\n",
    "return_list_low = []\n",
    "for i, r in reduced_d.iterrows():\n",
    "    country = r[\"Entity\"]\n",
    "    life_exp = r['Life expectancy at birth (historical)']\n",
    "    gdp = r['GDP']\n",
    "    if gdp > mean_std_gdp:\n",
    "        if life_exp > mean_std_exp:\n",
    "            return_list_high.append(country)\n",
    "        else:\n",
    "            return_list_low.append(country)"
   ]
  },
  {
   "cell_type": "code",
   "execution_count": 342,
   "id": "d80a7fa2",
   "metadata": {},
   "outputs": [
    {
     "name": "stdout",
     "output_type": "stream",
     "text": [
      "Percentage of countries with high life expectancy and high GDP is 71.43%\n"
     ]
    }
   ],
   "source": [
    "tot_len = len(return_list_low + return_list_high)\n",
    "\n",
    "percentage = len(return_list_high)/tot_len\n",
    "print(f'Percentage of countries with high life expectancy and high GDP is {round(percentage*100, 2)}%')"
   ]
  },
  {
   "attachments": {},
   "cell_type": "markdown",
   "id": "b423d22f",
   "metadata": {},
   "source": [
    "Answer: Yes, mostly. 71,43% of the countries with high GDP have high life expectancy, indicating a weak correlation.  "
   ]
  },
  {
   "attachments": {},
   "cell_type": "markdown",
   "id": "9d6245f9",
   "metadata": {},
   "source": [
    "**e) Related to question d, what would happen if you use GDP per capita as an indicator of strong economy? Explain the results you obtained, and discuss any insights you get from comparing the results of d and e.**"
   ]
  },
  {
   "cell_type": "code",
   "execution_count": 343,
   "id": "e986167e",
   "metadata": {},
   "outputs": [],
   "source": [
    "std_gdp = np.std(a=reduced_d['GDP per capita'])\n",
    "mean_gdp = np.mean(a=reduced_d['GDP per capita'])\n",
    "\n",
    "std_exp = np.std(a=reduced_d['Life expectancy at birth (historical)'])\n",
    "mean_exp = np.mean(a=reduced_d['Life expectancy at birth (historical)'])\n",
    "\n",
    "mean_std_gdp = mean_gdp + std_gdp\n",
    "mean_std_exp = mean_exp + std_exp"
   ]
  },
  {
   "cell_type": "code",
   "execution_count": 344,
   "id": "f73b0d4d",
   "metadata": {},
   "outputs": [],
   "source": [
    "return_list_high = []\n",
    "return_list_low = []\n",
    "for i, r in reduced_d.iterrows():\n",
    "    country = r[\"Entity\"]\n",
    "    life_exp = r['Life expectancy at birth (historical)']\n",
    "    gdp = r['GDP per capita']\n",
    "    if gdp > mean_std_gdp:\n",
    "        if life_exp > mean_std_exp:\n",
    "            return_list_high.append(country)\n",
    "        else:\n",
    "            return_list_low.append(country)"
   ]
  },
  {
   "cell_type": "code",
   "execution_count": 345,
   "id": "b5c6adea",
   "metadata": {},
   "outputs": [
    {
     "name": "stdout",
     "output_type": "stream",
     "text": [
      "Percentage of countries with high life expectancy and high GDP is 72.41%\n"
     ]
    }
   ],
   "source": [
    "tot_len = len(return_list_low + return_list_high)\n",
    "\n",
    "percentage = len(return_list_high)/tot_len\n",
    "print(f'Percentage of countries with high life expectancy and high GDP is {round(percentage*100, 2)}%')"
   ]
  },
  {
   "attachments": {},
   "cell_type": "markdown",
   "id": "258612b8",
   "metadata": {},
   "source": [
    "Answer: From our results GDP per caipta and GDP are decent indicators of strong economies. A factor that GDP per capita/GDP doesn't concider, is where the money is coming from, if it's one indusry (eg oil) or multiple intustries. Having multiple strong industries are much prefered as it reduces the risk of an economic collapse. \n",
    "\n",
    "We tested with diffrent years and found that the percentage varies a lot. From the 1900s the percentage has stedily decreased, indicating weaker coorelation between strong economies and and life expectancy. This might be because either poor countries economies grow faster than their life expectancy, or that their life expectancy grow faster than the economy. \n",
    "\n",
    "We used the same deviation every time (1 standart deviation), so that we could compare results between questions. \n",
    "\n",
    "We choose to reduce our dataset to one year to simplify the calculations. The year 2000 was chosen because it is recent and we had data for that year.\n",
    "\n",
    "\n"
   ]
  }
 ],
 "metadata": {
  "kernelspec": {
   "display_name": "Python 3",
   "language": "python",
   "name": "python3"
  },
  "language_info": {
   "codemirror_mode": {
    "name": "ipython",
    "version": 3
   },
   "file_extension": ".py",
   "mimetype": "text/x-python",
   "name": "python",
   "nbconvert_exporter": "python",
   "pygments_lexer": "ipython3",
   "version": "3.11.0"
  },
  "vscode": {
   "interpreter": {
    "hash": "8b3862bff8ec4c0913ff501ec59a91eeec109cc3060137e5ac68f23925615549"
   }
  }
 },
 "nbformat": 4,
 "nbformat_minor": 5
}
